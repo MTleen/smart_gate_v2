{
 "metadata": {
  "language_info": {
   "codemirror_mode": {
    "name": "ipython",
    "version": 3
   },
   "file_extension": ".py",
   "mimetype": "text/x-python",
   "name": "python",
   "nbconvert_exporter": "python",
   "pygments_lexer": "ipython3",
   "version": "3.7.7-final"
  },
  "orig_nbformat": 2,
  "kernelspec": {
   "name": "python3",
   "display_name": "Python 3",
   "language": "python"
  }
 },
 "nbformat": 4,
 "nbformat_minor": 2,
 "cells": [
  {
   "cell_type": "code",
   "execution_count": 1,
   "metadata": {},
   "outputs": [],
   "source": [
    "import torch\n",
    "from PIL import Image\n",
    "from matplotlib import pyplot as plt\n",
    "import yaml"
   ]
  },
  {
   "cell_type": "code",
   "execution_count": 1,
   "metadata": {},
   "outputs": [],
   "source": [
    "from redis import StrictRedis\n",
    "redis = StrictRedis(host='127.0.0.1', port=6379, db=1)"
   ]
  },
  {
   "cell_type": "code",
   "execution_count": 2,
   "metadata": {},
   "outputs": [],
   "source": [
    "import time\n",
    "import json\n",
    "now = time.localtime()"
   ]
  },
  {
   "cell_type": "code",
   "execution_count": 1,
   "metadata": {},
   "outputs": [
    {
     "output_type": "error",
     "ename": "Exception",
     "evalue": "获取画面超时",
     "traceback": [
      "\u001b[0;31m---------------------------------------------------------------------------\u001b[0m",
      "\u001b[0;31mException\u001b[0m                                 Traceback (most recent call last)",
      "\u001b[0;32m<ipython-input-1-57db41e5ea3a>\u001b[0m in \u001b[0;36m<module>\u001b[0;34m\u001b[0m\n\u001b[0;32m----> 1\u001b[0;31m \u001b[0;32mraise\u001b[0m \u001b[0mException\u001b[0m\u001b[0;34m(\u001b[0m\u001b[0;34m'获取画面超时'\u001b[0m\u001b[0;34m)\u001b[0m\u001b[0;34m\u001b[0m\u001b[0;34m\u001b[0m\u001b[0m\n\u001b[0m",
      "\u001b[0;31mException\u001b[0m: 获取画面超时"
     ]
    }
   ],
   "source": [
    "raise Exception('获取画面超时')"
   ]
  },
  {
   "cell_type": "code",
   "execution_count": 3,
   "metadata": {},
   "outputs": [],
   "source": [
    "date = time.strftime('%Y-%m-%d', now)\n",
    "l = redis.lrange(date, 0, -1)"
   ]
  },
  {
   "cell_type": "code",
   "execution_count": 7,
   "metadata": {},
   "outputs": [
    {
     "output_type": "execute_result",
     "data": {
      "text/plain": [
       "True"
      ]
     },
     "metadata": {},
     "execution_count": 7
    }
   ],
   "source": [
    "redis.ltrim(date, 1, -1)"
   ]
  },
  {
   "cell_type": "code",
   "execution_count": 8,
   "metadata": {},
   "outputs": [
    {
     "output_type": "execute_result",
     "data": {
      "text/plain": [
       "[b'{\"command\": \"2\", \"url\": \"https://i.loli.net/2021/02/28/aXLF96WeoPEMOA7.jpg\", \"date\": \"2021-02-28 06:24:53\"}',\n",
       " b'{\"command\": \"1\", \"url\": \"https://i.loli.net/2021/02/28/fKsQ1HjyavWLRO7.jpg\", \"date\": \"2021-02-28 07:22:19\"}',\n",
       " b'{\"command\": \"2\", \"url\": \"https://i.loli.net/2021/02/28/hjITUu8HMNVbGDR.jpg\", \"date\": \"2021-02-28 07:28:52\"}',\n",
       " b'{\"command\": \"2\", \"url\": \"https://i.loli.net/2021/02/28/HaQYzSqOWAlGNno.jpg\", \"date\": \"2021-02-28 08:07:09\"}',\n",
       " b'{\"command\": \"1\", \"url\": \"https://i.loli.net/2021/02/28/vFzbDUK9G24nQkS.jpg\", \"date\": \"2021-02-28 09:00:44\"}',\n",
       " b'{\"command\": \"1\", \"url\": \"https://i.loli.net/2021/02/28/EKreqJGv1iZcpaz.jpg\", \"date\": \"2021-02-28 10:22:24\"}',\n",
       " b'{\"command\": \"2\", \"url\": \"https://i.loli.net/2021/02/28/kSTFwhQfnps9ut7.jpg\", \"date\": \"2021-02-28 10:23:36\"}',\n",
       " b'{\"command\": \"1\", \"url\": \"https://i.loli.net/2021/02/28/Dt4rkKdZNJQhalT.jpg\", \"date\": \"2021-02-28 10:36:20\"}',\n",
       " b'{\"command\": \"2\", \"url\": \"https://i.loli.net/2021/02/28/4F5V7oJ3NIyebAK.jpg\", \"date\": \"2021-02-28 10:40:55\"}',\n",
       " b'{\"command\": \"1\", \"url\": \"https://i.loli.net/2021/02/28/e7R6qSnKOhtvbsJ.jpg\", \"date\": \"2021-02-28 10:49:21\"}',\n",
       " b'{\"command\": \"2\", \"url\": \"https://i.loli.net/2021/02/28/ufibIpnRNjTKeVr.jpg\", \"date\": \"2021-02-28 10:58:20\"}',\n",
       " b'{\"command\": \"1\", \"url\": \"https://i.loli.net/2021/02/28/YWMcUhEPjRaIACV.jpg\", \"date\": \"2021-02-28 11:27:40\"}',\n",
       " b'{\"command\": \"2\", \"url\": \"https://i.loli.net/2021/02/28/4LisQladGKYkFgx.jpg\", \"date\": \"2021-02-28 11:29:34\"}',\n",
       " b'{\"command\": \"1\", \"url\": \"https://i.loli.net/2021/02/28/4Lan97y3JhvqRik.jpg\", \"date\": \"2021-02-28 11:32:42\"}']"
      ]
     },
     "metadata": {},
     "execution_count": 8
    }
   ],
   "source": [
    "redis.lrange(date, 0, -1)"
   ]
  },
  {
   "cell_type": "code",
   "execution_count": 5,
   "metadata": {},
   "outputs": [],
   "source": [
    "import requests"
   ]
  },
  {
   "cell_type": "code",
   "execution_count": 32,
   "metadata": {},
   "outputs": [],
   "source": [
    "url = 'https://sm.ms/api/v2/upload'\n",
    "api_key = 'Vaf0v7idZ2zAla28firW0ySHbYvg1J6m'\n",
    "headers = {\n",
    "    'Authorization': api_key\n",
    "}\n",
    "files ={'smfile': open('./temp/2021-2-28/00:04:04.jpg', 'rb').read()}\n",
    "res = requests.post(url, headers=headers, files=files).json()"
   ]
  },
  {
   "cell_type": "code",
   "execution_count": 33,
   "metadata": {},
   "outputs": [
    {
     "output_type": "execute_result",
     "data": {
      "text/plain": [
       "{'success': False,\n",
       " 'code': 'image_repeated',\n",
       " 'message': 'Image upload repeated limit, this image exists at: https://i.loli.net/2021/02/28/5dlTIH4V23FgmaX.jpg',\n",
       " 'images': 'https://i.loli.net/2021/02/28/5dlTIH4V23FgmaX.jpg',\n",
       " 'RequestId': '4D4A94FA-89D1-4456-AD6A-83C264F932AE'}"
      ]
     },
     "metadata": {},
     "execution_count": 33
    }
   ],
   "source": [
    "res"
   ]
  },
  {
   "cell_type": "code",
   "execution_count": 59,
   "metadata": {},
   "outputs": [
    {
     "output_type": "execute_result",
     "data": {
      "text/plain": [
       "['2', '1', '1', '1', '2', '{\"开门\": 1}', '{\"\\\\u5f00\\\\u95e8\": 1}', '{\"开门\": 1}']"
      ]
     },
     "metadata": {},
     "execution_count": 59
    }
   ],
   "source": [
    "l = redis.lrange(date, 0, -1)\n",
    "list(map(lambda x: x.decode(), l))"
   ]
  },
  {
   "cell_type": "code",
   "execution_count": 4,
   "metadata": {},
   "outputs": [
    {
     "output_type": "execute_result",
     "data": {
      "text/plain": [
       "1"
      ]
     },
     "metadata": {},
     "execution_count": 4
    }
   ],
   "source": [
    "redis.delete(date)"
   ]
  },
  {
   "cell_type": "code",
   "execution_count": 62,
   "metadata": {},
   "outputs": [],
   "source": [
    "redis.get(date)"
   ]
  },
  {
   "cell_type": "code",
   "execution_count": 12,
   "metadata": {},
   "outputs": [],
   "source": [
    "with open('./configs/sys_conf.yaml', 'r') as f:\n",
    "    conf_dict = yaml.load(f.read(), Loader=yaml.FullLoader)\n"
   ]
  },
  {
   "cell_type": "code",
   "execution_count": 10,
   "metadata": {},
   "outputs": [],
   "source": [
    "with open('./configs/test.yaml', 'w') as f:\n",
    "    yaml.dump(dict(a), f)"
   ]
  },
  {
   "cell_type": "code",
   "execution_count": 1,
   "metadata": {},
   "outputs": [
    {
     "output_type": "execute_result",
     "data": {
      "text/plain": [
       "0"
      ]
     },
     "metadata": {},
     "execution_count": 1
    }
   ],
   "source": [
    "a = [1, 2, 3]\n",
    "a.index(1)"
   ]
  },
  {
   "cell_type": "code",
   "execution_count": 21,
   "metadata": {},
   "outputs": [],
   "source": [
    "from easydict import EasyDict as edict\n",
    "\n",
    "a = edict(conf_dict)\n",
    "with open('./configs/test.yaml', 'w') as f:\n",
    "    yaml.dump(dict(a.items()), f)"
   ]
  },
  {
   "cell_type": "code",
   "execution_count": 19,
   "metadata": {},
   "outputs": [
    {
     "output_type": "execute_result",
     "data": {
      "text/plain": [
       "{'sys': {'mode': 0,\n",
       "  'gate_server_url': 'http://127.0.0.1:1880/gate',\n",
       "  'metrics': {'coordinate': {'x': 0, 'y': 500},\n",
       "   'close': {'start': 600, 'end': 1100},\n",
       "   'open': {'start': 1100, 'end': 950}},\n",
       "  'baidu': {'access_token': {'base_url': 'https://aip.baidubce.com/oauth/2.0/token',\n",
       "    'params': {'grant_type': 'client_credentials',\n",
       "     'client_id': '0V8w14CdUFW2q8hzG11wjVKC',\n",
       "     'client_secret': 'mGGtPZpIx5FlkBFL2Eus3oVUaiIfq74h'},\n",
       "    'token': '',\n",
       "    'fresh_time': ''},\n",
       "   'face_search': {'base_url': 'https://aip.baidubce.com/rest/2.0/face/v3/search',\n",
       "    'params': {'image': '', 'image_type': 'BASE64', 'group_id_list': 'home'}},\n",
       "   'license_plate': {'base_url': 'https://aip.baidubce.com/rest/2.0/ocr/v1/license_plate',\n",
       "    'params': {'image': ''}}}}}"
      ]
     },
     "metadata": {},
     "execution_count": 19
    }
   ],
   "source": [
    "dict(a.items())"
   ]
  },
  {
   "cell_type": "code",
   "execution_count": 19,
   "metadata": {},
   "outputs": [
    {
     "output_type": "execute_result",
     "data": {
      "text/plain": [
       "dict_items([('2', 2)])"
      ]
     },
     "metadata": {},
     "execution_count": 19
    }
   ],
   "source": [
    "a.items()"
   ]
  },
  {
   "cell_type": "code",
   "execution_count": 6,
   "metadata": {},
   "outputs": [
    {
     "output_type": "execute_result",
     "data": {
      "text/plain": [
       "2.0"
      ]
     },
     "metadata": {},
     "execution_count": 6
    }
   ],
   "source": [
    "import math\n",
    "math.sqrt(4)"
   ]
  },
  {
   "cell_type": "code",
   "execution_count": 14,
   "metadata": {},
   "outputs": [
    {
     "output_type": "execute_result",
     "data": {
      "text/plain": [
       "'17:32:17'"
      ]
     },
     "metadata": {},
     "execution_count": 14
    }
   ],
   "source": [
    "import time\n",
    "\n",
    "time.strftime('%H:%M:%S', time.localtime())"
   ]
  },
  {
   "cell_type": "code",
   "execution_count": 1,
   "metadata": {},
   "outputs": [
    {
     "output_type": "execute_result",
     "data": {
      "text/plain": [
       "True"
      ]
     },
     "metadata": {},
     "execution_count": 1
    }
   ],
   "source": [
    "import os\n",
    "\n",
    "os.path.isfile('./configs/logger_config.json')"
   ]
  },
  {
   "cell_type": "code",
   "execution_count": 5,
   "metadata": {},
   "outputs": [
    {
     "output_type": "execute_result",
     "data": {
      "text/plain": [
       "[1]"
      ]
     },
     "metadata": {},
     "execution_count": 5
    }
   ],
   "source": [
    "a = {\"1\": 1}\n",
    "list(map(lambda x: int(x), a.keys()))"
   ]
  },
  {
   "cell_type": "code",
   "execution_count": 2,
   "metadata": {},
   "outputs": [
    {
     "output_type": "stream",
     "name": "stderr",
     "text": [
      "Using cache found in /home/mathripper/.cache/torch/hub/ultralytics_yolov5_master\n",
      "\n",
      "                 from  n    params  module                                  arguments                     \n",
      "  0                -1  1      3520  models.common.Focus                     [3, 32, 3]                    \n",
      "  1                -1  1     18560  models.common.Conv                      [32, 64, 3, 2]                \n",
      "  2                -1  1     18816  models.common.C3                        [64, 64, 1]                   \n",
      "  3                -1  1     73984  models.common.Conv                      [64, 128, 3, 2]               \n",
      "  4                -1  1    156928  models.common.C3                        [128, 128, 3]                 \n",
      "  5                -1  1    295424  models.common.Conv                      [128, 256, 3, 2]              \n",
      "  6                -1  1    625152  models.common.C3                        [256, 256, 3]                 \n",
      "  7                -1  1   1180672  models.common.Conv                      [256, 512, 3, 2]              \n",
      "  8                -1  1    656896  models.common.SPP                       [512, 512, [5, 9, 13]]        \n",
      "  9                -1  1   1182720  models.common.C3                        [512, 512, 1, False]          \n",
      " 10                -1  1    131584  models.common.Conv                      [512, 256, 1, 1]              \n",
      " 11                -1  1         0  torch.nn.modules.upsampling.Upsample    [None, 2, 'nearest']          \n",
      " 12           [-1, 6]  1         0  models.common.Concat                    [1]                           \n",
      " 13                -1  1    361984  models.common.C3                        [512, 256, 1, False]          \n",
      " 14                -1  1     33024  models.common.Conv                      [256, 128, 1, 1]              \n",
      " 15                -1  1         0  torch.nn.modules.upsampling.Upsample    [None, 2, 'nearest']          \n",
      " 16           [-1, 4]  1         0  models.common.Concat                    [1]                           \n",
      " 17                -1  1     90880  models.common.C3                        [256, 128, 1, False]          \n",
      " 18                -1  1    147712  models.common.Conv                      [128, 128, 3, 2]              \n",
      " 19          [-1, 14]  1         0  models.common.Concat                    [1]                           \n",
      " 20                -1  1    296448  models.common.C3                        [256, 256, 1, False]          \n",
      " 21                -1  1    590336  models.common.Conv                      [256, 256, 3, 2]              \n",
      " 22          [-1, 10]  1         0  models.common.Concat                    [1]                           \n",
      " 23                -1  1   1182720  models.common.C3                        [512, 512, 1, False]          \n",
      " 24      [17, 20, 23]  1    229245  models.yolo.Detect                      [80, [[10, 13, 16, 30, 33, 23], [30, 61, 62, 45, 59, 119], [116, 90, 156, 198, 373, 326]], [128, 256, 512]]\n",
      "Model Summary: 283 layers, 7276605 parameters, 7276605 gradients\n",
      "\n",
      "Adding autoShape... \n"
     ]
    }
   ],
   "source": [
    "# Model\n",
    "model = torch.hub.load('ultralytics/yolov5', 'yolov5s', pretrained=True)\n",
    "model.conf = 0.5\n",
    "model.classes = [0, 2]\n",
    "\n",
    "# Images\n",
    "img = Image.open('./videos/test.jpg')\n",
    "# img2 = Image.open('bus.jpg')\n",
    "# imgs = [img1, img2]  # batched list of images\n",
    "\n",
    "# Inference\n",
    "result = model(img)"
   ]
  },
  {
   "cell_type": "code",
   "execution_count": 3,
   "metadata": {},
   "outputs": [
    {
     "output_type": "stream",
     "name": "stdout",
     "text": [
      "image 1/1: 1080x1920 1 person, 1 car\n"
     ]
    }
   ],
   "source": [
    "%matplotlib inline\n",
    "result.print()"
   ]
  },
  {
   "cell_type": "code",
   "execution_count": 4,
   "metadata": {},
   "outputs": [
    {
     "output_type": "execute_result",
     "data": {
      "text/plain": [
       "[tensor([[1.12848e+03, 3.23963e+02, 1.30533e+03, 7.77842e+02, 9.00797e-01, 0.00000e+00],\n",
       "         [2.53060e+02, 2.56026e+02, 1.15918e+03, 9.41925e+02, 8.27118e-01, 2.00000e+00]])]"
      ]
     },
     "metadata": {},
     "execution_count": 4
    }
   ],
   "source": [
    "result.pred"
   ]
  },
  {
   "cell_type": "code",
   "execution_count": 7,
   "metadata": {},
   "outputs": [
    {
     "output_type": "execute_result",
     "data": {
      "text/plain": [
       "[tensor([[1.21690e+03, 5.50903e+02, 1.76848e+02, 4.53879e+02, 9.00797e-01, 0.00000e+00],\n",
       "         [7.06118e+02, 5.98975e+02, 9.06117e+02, 6.85899e+02, 8.27118e-01, 2.00000e+00]])]"
      ]
     },
     "metadata": {},
     "execution_count": 7
    }
   ],
   "source": [
    "result.xywh"
   ]
  },
  {
   "cell_type": "code",
   "execution_count": null,
   "metadata": {},
   "outputs": [],
   "source": []
  }
 ]
}